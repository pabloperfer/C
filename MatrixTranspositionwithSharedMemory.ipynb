{
  "nbformat": 4,
  "nbformat_minor": 0,
  "metadata": {
    "colab": {
      "name": "MatrixTranspositionwithSharedMemory.ipynb",
      "provenance": [],
      "collapsed_sections": [],
      "authorship_tag": "ABX9TyPY4YhoBHns/wt5y5ZfFQ93",
      "include_colab_link": true
    },
    "kernelspec": {
      "name": "python3",
      "display_name": "Python 3"
    },
    "language_info": {
      "name": "python"
    },
    "accelerator": "GPU"
  },
  "cells": [
    {
      "cell_type": "markdown",
      "metadata": {
        "id": "view-in-github",
        "colab_type": "text"
      },
      "source": [
        "<a href=\"https://colab.research.google.com/github/pabloperfer/C/blob/master/MatrixTranspositionwithSharedMemory.ipynb\" target=\"_parent\"><img src=\"https://colab.research.google.com/assets/colab-badge.svg\" alt=\"Open In Colab\"/></a>"
      ]
    },
    {
      "cell_type": "code",
      "execution_count": 1,
      "metadata": {
        "id": "Naf1Jx9xctwz"
      },
      "outputs": [],
      "source": [
        "from numba.cuda.stubs import syncthreads\n",
        "import numpy as np\n",
        "from numba import cuda\n",
        "import numba.types\n",
        "\n",
        "TILE_SIZE=32\n",
        "\n",
        "@cuda.jit\n",
        "def transpose(a_in, a_out):\n",
        "  #Explicitly calculate indices rather than using cuda.grid(2)\n",
        "  tile = cuda.shared.array((TILE_SIZE, TILE_SIZE), numba.types.int32)\n",
        "  row = cuda.blockIdx.x * TILE_SIZE + cuda.threadIdx.x\n",
        "  col = cuda.blockIdx.y * TILE_SIZE + cuda.threadIdx.y\n",
        "  \n",
        "  \n",
        "  for z in range (0,TILE_SIZE,TILE_SIZE):\n",
        "    tile[cuda.threadIdx.y + z,cuda.threadIdx.x] = a_in[col + z, row ]\n",
        "                                         \n",
        "  cuda.syncthreads()\n",
        " \n",
        "  for i in range (0,TILE_SIZE,TILE_SIZE):\n",
        "    a_out[row,col + i ] = tile[cuda.threadIdx.x][cuda.threadIdx.y + i]\n",
        "    \n",
        "  \n"
      ]
    },
    {
      "cell_type": "code",
      "source": [
        "size = 16384\n",
        "a_in = cuda.to_device(np.arange(size*size,dtype=np.int32).reshape((size,size)))\n",
        "a_out = cuda.device_array_like(a_in)\n",
        "\n",
        "print(a_in.copy_to_host())\n",
        "print(a_out.copy_to_host())"
      ],
      "metadata": {
        "colab": {
          "base_uri": "https://localhost:8080/"
        },
        "id": "6EyB_mKMdvlA",
        "outputId": "762d23df-0888-4fe5-d10a-e35d1284864c"
      },
      "execution_count": 2,
      "outputs": [
        {
          "output_type": "stream",
          "name": "stdout",
          "text": [
            "[[        0         1         2 ...     16381     16382     16383]\n",
            " [    16384     16385     16386 ...     32765     32766     32767]\n",
            " [    32768     32769     32770 ...     49149     49150     49151]\n",
            " ...\n",
            " [268386304 268386305 268386306 ... 268402685 268402686 268402687]\n",
            " [268402688 268402689 268402690 ... 268419069 268419070 268419071]\n",
            " [268419072 268419073 268419074 ... 268435453 268435454 268435455]]\n",
            "[[0 0 0 ... 0 0 0]\n",
            " [0 0 0 ... 0 0 0]\n",
            " [0 0 0 ... 0 0 0]\n",
            " ...\n",
            " [0 0 0 ... 0 0 0]\n",
            " [0 0 0 ... 0 0 0]\n",
            " [0 0 0 ... 0 0 0]]\n"
          ]
        }
      ]
    },
    {
      "cell_type": "code",
      "source": [
        "threads_per_block=(32,32)\n",
        "blocks_per_grid=(int(size/threads_per_block[0]),int(size/threads_per_block[1]))"
      ],
      "metadata": {
        "id": "0vORoMiweklz"
      },
      "execution_count": 3,
      "outputs": []
    },
    {
      "cell_type": "code",
      "source": [
        "timeit transpose[blocks_per_grid, threads_per_block](a_in,a_out); cuda.synchronize();print(a_out.copy_to_host())"
      ],
      "metadata": {
        "colab": {
          "base_uri": "https://localhost:8080/"
        },
        "id": "TWHVpoZ7fcLx",
        "outputId": "b45f517e-eb0f-4de6-93c7-090afad301b5"
      },
      "execution_count": 4,
      "outputs": [
        {
          "output_type": "stream",
          "name": "stdout",
          "text": [
            "[[        0         1         2 ... 267911197 267911198 267911199]\n",
            " [    16384     16385     16386 ... 267927581 267927582 267927583]\n",
            " [    32768     32769     32770 ... 267943965 267943966 267943967]\n",
            " ...\n",
            " [   491488    491489    491490 ... 268402685 268402686 268402687]\n",
            " [   507872    507873    507874 ... 268419069 268419070 268419071]\n",
            " [   524256    524257    524258 ... 268435453 268435454 268435455]]\n",
            "[[        0         1         2 ... 267911197 267911198 267911199]\n",
            " [    16384     16385     16386 ... 267927581 267927582 267927583]\n",
            " [    32768     32769     32770 ... 267943965 267943966 267943967]\n",
            " ...\n",
            " [   491488    491489    491490 ... 268402685 268402686 268402687]\n",
            " [   507872    507873    507874 ... 268419069 268419070 268419071]\n",
            " [   524256    524257    524258 ... 268435453 268435454 268435455]]\n",
            "[[        0         1         2 ... 267911197 267911198 267911199]\n",
            " [    16384     16385     16386 ... 267927581 267927582 267927583]\n",
            " [    32768     32769     32770 ... 267943965 267943966 267943967]\n",
            " ...\n",
            " [   491488    491489    491490 ... 268402685 268402686 268402687]\n",
            " [   507872    507873    507874 ... 268419069 268419070 268419071]\n",
            " [   524256    524257    524258 ... 268435453 268435454 268435455]]\n",
            "[[        0         1         2 ... 267911197 267911198 267911199]\n",
            " [    16384     16385     16386 ... 267927581 267927582 267927583]\n",
            " [    32768     32769     32770 ... 267943965 267943966 267943967]\n",
            " ...\n",
            " [   491488    491489    491490 ... 268402685 268402686 268402687]\n",
            " [   507872    507873    507874 ... 268419069 268419070 268419071]\n",
            " [   524256    524257    524258 ... 268435453 268435454 268435455]]\n",
            "[[        0         1         2 ... 267911197 267911198 267911199]\n",
            " [    16384     16385     16386 ... 267927581 267927582 267927583]\n",
            " [    32768     32769     32770 ... 267943965 267943966 267943967]\n",
            " ...\n",
            " [   491488    491489    491490 ... 268402685 268402686 268402687]\n",
            " [   507872    507873    507874 ... 268419069 268419070 268419071]\n",
            " [   524256    524257    524258 ... 268435453 268435454 268435455]]\n",
            "[[        0         1         2 ... 267911197 267911198 267911199]\n",
            " [    16384     16385     16386 ... 267927581 267927582 267927583]\n",
            " [    32768     32769     32770 ... 267943965 267943966 267943967]\n",
            " ...\n",
            " [   491488    491489    491490 ... 268402685 268402686 268402687]\n",
            " [   507872    507873    507874 ... 268419069 268419070 268419071]\n",
            " [   524256    524257    524258 ... 268435453 268435454 268435455]]\n",
            "1 loop, best of 5: 248 ms per loop\n"
          ]
        }
      ]
    }
  ]
}